{
 "cells": [
  {
   "cell_type": "code",
   "execution_count": 70,
   "metadata": {},
   "outputs": [
    {
     "name": "stdout",
     "output_type": "stream",
     "text": [
      "Charmander at level 15\n",
      "Pidgey at level 11\n",
      "Sandshrew at level 18\n",
      "Rattata at level 5\n",
      "Abra at level 14\n"
     ]
    }
   ],
   "source": [
    "party = ['Charmander', 'Pidgey', 'Sandshrew', 'Rattata', 'Abra'];\n",
    "levels = [15, 11, 18, 5, 14]\n",
    "for pokemon, level in zip(party,levels):\n",
    "    print(pokemon, 'at level', level)"
   ]
  },
  {
   "cell_type": "code",
   "execution_count": 44,
   "metadata": {},
   "outputs": [
    {
     "name": "stdout",
     "output_type": "stream",
     "text": [
      "['Dialga','Regigigas','Onix']\n"
     ]
    }
   ],
   "source": [
    "reserves = [ ('Onix',10),('Slowpoke',18),('Dialga', 2), ('Magikarp', 32),('Feebas', 22),('Swablu', 19),('Regigigas', 3),('Unown', 50)\n",
    "           ]\n",
    "level = lambda reserve: reserve[1][2]\n",
    "reserves.sort(key=level, reverse=True)\n",
    "print(\"['\"+str(reserves[-1][0])+\"','\"+ str(reserves[-2][0])+\"','\"+ str(reserves[-3][0])+\"']\")"
   ]
  },
  {
   "cell_type": "code",
   "execution_count": 59,
   "metadata": {},
   "outputs": [
    {
     "name": "stdout",
     "output_type": "stream",
     "text": [
      "Sample parties at highest level\n",
      "\n",
      "['Charmander','Pidgey','Sandshrew','Rattata','Abra''Dialga']\n",
      "['Charmander','Pidgey','Sandshrew','Rattata','Abra''Regigigas']\n",
      "['Charmander','Pidgey','Sandshrew','Rattata','Abra''Onix']\n"
     ]
    }
   ],
   "source": [
    "def create_party(party, candidates):\n",
    "    party = ['Charmander', 'Pidgey', 'Sandshrew', 'Rattata', 'Abra'];\n",
    "    reserves = [ ('Onix',10),('Slowpoke',18),('Dialga', 2), ('Magikarp', 32),('Feebas', 22),('Swablu', 19),('Regigigas', 3),('Unown', 50)\n",
    "           ]\n",
    "    print(\"Sample parties at highest level\\n\")\n",
    "    print(\"['\"+(party[0])+\"','\"+(party[1])+\"','\"+(party[2])+\"','\"+(party[3])+\"','\"+(party[4])+\"''\"+(candidates[-1][0])+\"']\")\n",
    "    print(\"['\"+(party[0])+\"','\"+(party[1])+\"','\"+(party[2])+\"','\"+(party[3])+\"','\"+(party[4])+\"''\"+(candidates[-2][0])+\"']\")\n",
    "    print(\"['\"+(party[0])+\"','\"+(party[1])+\"','\"+(party[2])+\"','\"+(party[3])+\"','\"+(party[4])+\"''\"+(candidates[-3][0])+\"']\")\n",
    "candidates = reserves\n",
    "create_party(party,candidates)\n"
   ]
  },
  {
   "cell_type": "code",
   "execution_count": null,
   "metadata": {},
   "outputs": [],
   "source": []
  },
  {
   "cell_type": "code",
   "execution_count": null,
   "metadata": {},
   "outputs": [],
   "source": []
  }
 ],
 "metadata": {
  "kernelspec": {
   "display_name": "Python 3",
   "language": "python",
   "name": "python3"
  },
  "language_info": {
   "codemirror_mode": {
    "name": "ipython",
    "version": 3
   },
   "file_extension": ".py",
   "mimetype": "text/x-python",
   "name": "python",
   "nbconvert_exporter": "python",
   "pygments_lexer": "ipython3",
   "version": "3.8.3"
  }
 },
 "nbformat": 4,
 "nbformat_minor": 4
}
